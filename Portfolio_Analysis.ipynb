{
  "nbformat": 4,
  "nbformat_minor": 0,
  "metadata": {
    "kernelspec": {
      "display_name": "Python 3",
      "language": "python",
      "name": "python3"
    },
    "language_info": {
      "codemirror_mode": {
        "name": "ipython",
        "version": 3
      },
      "file_extension": ".py",
      "mimetype": "text/x-python",
      "name": "python",
      "nbconvert_exporter": "python",
      "pygments_lexer": "ipython3",
      "version": "3.7.4"
    },
    "toc": {
      "base_numbering": 1,
      "nav_menu": {},
      "number_sections": true,
      "sideBar": true,
      "skip_h1_title": false,
      "title_cell": "Table of Contents",
      "title_sidebar": "Contents",
      "toc_cell": false,
      "toc_position": {},
      "toc_section_display": true,
      "toc_window_display": false
    },
    "varInspector": {
      "cols": {
        "lenName": 16,
        "lenType": 16,
        "lenVar": 40
      },
      "kernels_config": {
        "python": {
          "delete_cmd_postfix": "",
          "delete_cmd_prefix": "del ",
          "library": "var_list.py",
          "varRefreshCmd": "print(var_dic_list())"
        },
        "r": {
          "delete_cmd_postfix": ") ",
          "delete_cmd_prefix": "rm(",
          "library": "var_list.r",
          "varRefreshCmd": "cat(var_dic_list()) "
        }
      },
      "types_to_exclude": [
        "module",
        "function",
        "builtin_function_or_method",
        "instance",
        "_Feature"
      ],
      "window_display": false
    },
    "colab": {
      "name": "Portfolio Analysis.ipynb",
      "provenance": [],
      "include_colab_link": true
    },
    "widgets": {
      "application/vnd.jupyter.widget-state+json": {
        "bf5198247bed4e8a940acfafdb571141": {
          "model_module": "@jupyter-widgets/controls",
          "model_name": "VBoxModel",
          "state": {
            "_view_name": "VBoxView",
            "_dom_classes": [
              "widget-interact"
            ],
            "_model_name": "VBoxModel",
            "_view_module": "@jupyter-widgets/controls",
            "_model_module_version": "1.5.0",
            "_view_count": null,
            "_view_module_version": "1.5.0",
            "box_style": "",
            "layout": "IPY_MODEL_533e05fe897441d897afdebb783894e9",
            "_model_module": "@jupyter-widgets/controls",
            "children": [
              "IPY_MODEL_b74c9c1dbc7d4db8bf48558ee44d1d19",
              "IPY_MODEL_0fc49b981b4240f5988479eaf335c82c",
              "IPY_MODEL_d05ffa7e40874d89b15be0575aedfeb9"
            ]
          }
        },
        "533e05fe897441d897afdebb783894e9": {
          "model_module": "@jupyter-widgets/base",
          "model_name": "LayoutModel",
          "state": {
            "_view_name": "LayoutView",
            "grid_template_rows": null,
            "right": null,
            "justify_content": null,
            "_view_module": "@jupyter-widgets/base",
            "overflow": null,
            "_model_module_version": "1.2.0",
            "_view_count": null,
            "flex_flow": null,
            "width": null,
            "min_width": null,
            "border": null,
            "align_items": null,
            "bottom": null,
            "_model_module": "@jupyter-widgets/base",
            "top": null,
            "grid_column": null,
            "overflow_y": null,
            "overflow_x": null,
            "grid_auto_flow": null,
            "grid_area": null,
            "grid_template_columns": null,
            "flex": null,
            "_model_name": "LayoutModel",
            "justify_items": null,
            "grid_row": null,
            "max_height": null,
            "align_content": null,
            "visibility": null,
            "align_self": null,
            "height": null,
            "min_height": null,
            "padding": null,
            "grid_auto_rows": null,
            "grid_gap": null,
            "max_width": null,
            "order": null,
            "_view_module_version": "1.2.0",
            "grid_template_areas": null,
            "object_position": null,
            "object_fit": null,
            "grid_auto_columns": null,
            "margin": null,
            "display": null,
            "left": null
          }
        },
        "b74c9c1dbc7d4db8bf48558ee44d1d19": {
          "model_module": "@jupyter-widgets/controls",
          "model_name": "DropdownModel",
          "state": {
            "_options_labels": [
              "mtd",
              "exposure"
            ],
            "_view_name": "DropdownView",
            "style": "IPY_MODEL_9c74ac44cec84f6a960787a8663e8e0f",
            "_dom_classes": [],
            "description": "column",
            "_model_name": "DropdownModel",
            "index": 1,
            "_view_module": "@jupyter-widgets/controls",
            "_model_module_version": "1.5.0",
            "_view_count": null,
            "disabled": false,
            "_view_module_version": "1.5.0",
            "description_tooltip": null,
            "_model_module": "@jupyter-widgets/controls",
            "layout": "IPY_MODEL_e50f2754565f4ab1b12a6f2ba14cdde1"
          }
        },
        "0fc49b981b4240f5988479eaf335c82c": {
          "model_module": "@jupyter-widgets/controls",
          "model_name": "IntSliderModel",
          "state": {
            "_view_name": "IntSliderView",
            "style": "IPY_MODEL_21f088dfc88948cca764a28cbf237d40",
            "_dom_classes": [],
            "description": "x",
            "step": 1,
            "_model_name": "IntSliderModel",
            "orientation": "horizontal",
            "max": 150000,
            "_view_module": "@jupyter-widgets/controls",
            "_model_module_version": "1.5.0",
            "value": 109201,
            "_view_count": null,
            "disabled": false,
            "_view_module_version": "1.5.0",
            "min": -50000,
            "continuous_update": true,
            "readout_format": "d",
            "description_tooltip": null,
            "readout": true,
            "_model_module": "@jupyter-widgets/controls",
            "layout": "IPY_MODEL_fd9c9ab71df94971be9c98d84d3d3d3b"
          }
        },
        "d05ffa7e40874d89b15be0575aedfeb9": {
          "model_module": "@jupyter-widgets/output",
          "model_name": "OutputModel",
          "state": {
            "_view_name": "OutputView",
            "msg_id": "",
            "_dom_classes": [],
            "_model_name": "OutputModel",
            "outputs": [
              {
                "output_type": "display_data",
                "metadata": {
                  "tags": []
                },
                "text/html": "<div>\n<style scoped>\n    .dataframe tbody tr th:only-of-type {\n        vertical-align: middle;\n    }\n\n    .dataframe tbody tr th {\n        vertical-align: top;\n    }\n\n    .dataframe thead th {\n        text-align: right;\n    }\n</style>\n<table border=\"1\" class=\"dataframe\">\n  <thead>\n    <tr style=\"text-align: right;\">\n      <th></th>\n      <th>date</th>\n      <th>country</th>\n      <th>sector</th>\n      <th>exposure</th>\n      <th>mtd</th>\n      <th>nav</th>\n      <th>strategy</th>\n      <th>type</th>\n      <th>issuer</th>\n    </tr>\n  </thead>\n  <tbody>\n    <tr>\n      <th>85</th>\n      <td>2018-01-31</td>\n      <td>Germany</td>\n      <td>Communications</td>\n      <td>1.015685e+07</td>\n      <td>4.777405e+05</td>\n      <td>1.884133e+08</td>\n      <td>ARBITRAGE</td>\n      <td>Equity</td>\n      <td>Kabel Deutschland Holding AG</td>\n    </tr>\n    <tr>\n      <th>188</th>\n      <td>2018-01-31</td>\n      <td>Italy</td>\n      <td>Financial</td>\n      <td>1.004126e+07</td>\n      <td>1.519605e+06</td>\n      <td>1.884133e+08</td>\n      <td>ARBITRAGE</td>\n      <td>Equity</td>\n      <td>Unipol Gruppo SpA</td>\n    </tr>\n    <tr>\n      <th>305</th>\n      <td>2018-01-31</td>\n      <td>Sweden</td>\n      <td>Consumer, Cyclical</td>\n      <td>3.464907e+06</td>\n      <td>2.663193e+05</td>\n      <td>1.884133e+08</td>\n      <td>ARBITRAGE</td>\n      <td>Equity</td>\n      <td>HALDEX AB</td>\n    </tr>\n    <tr>\n      <th>521</th>\n      <td>2018-01-31</td>\n      <td>United Kingdom</td>\n      <td>Financial</td>\n      <td>7.048968e+05</td>\n      <td>3.048024e+04</td>\n      <td>1.884133e+08</td>\n      <td>SPECIAL SITUATIONS</td>\n      <td>Bond Corporate</td>\n      <td>Wessex Ltd</td>\n    </tr>\n    <tr>\n      <th>524</th>\n      <td>2018-01-31</td>\n      <td>Italy</td>\n      <td>Industrial</td>\n      <td>4.831781e+06</td>\n      <td>2.506950e+05</td>\n      <td>1.884133e+08</td>\n      <td>ARBITRAGE</td>\n      <td>Equity</td>\n      <td>ANSALDO STS SPA</td>\n    </tr>\n    <tr>\n      <th>...</th>\n      <td>...</td>\n      <td>...</td>\n      <td>...</td>\n      <td>...</td>\n      <td>...</td>\n      <td>...</td>\n      <td>...</td>\n      <td>...</td>\n      <td>...</td>\n    </tr>\n    <tr>\n      <th>22085</th>\n      <td>2018-12-31</td>\n      <td>Sweden</td>\n      <td>Consumer, Cyclical</td>\n      <td>2.335869e+06</td>\n      <td>-3.033266e+04</td>\n      <td>1.019061e+08</td>\n      <td>ARBITRAGE</td>\n      <td>Equity</td>\n      <td>HALDEX AB</td>\n    </tr>\n    <tr>\n      <th>22086</th>\n      <td>2018-12-31</td>\n      <td>South Africa</td>\n      <td>Communications</td>\n      <td>3.103648e+06</td>\n      <td>2.855950e+04</td>\n      <td>1.019061e+08</td>\n      <td>ARBITRAGE</td>\n      <td>Equity</td>\n      <td>Naspers Ltd</td>\n    </tr>\n    <tr>\n      <th>22087</th>\n      <td>2018-12-31</td>\n      <td>United Kingdom</td>\n      <td>Energy</td>\n      <td>1.813352e+06</td>\n      <td>-1.104503e+05</td>\n      <td>1.019061e+08</td>\n      <td>CAPITAL MARKETS</td>\n      <td>Equity</td>\n      <td>Jadestone Energy Inc</td>\n    </tr>\n    <tr>\n      <th>22088</th>\n      <td>2018-12-31</td>\n      <td>United Kingdom</td>\n      <td>Financial</td>\n      <td>1.206661e+06</td>\n      <td>-5.124079e+05</td>\n      <td>1.019061e+08</td>\n      <td>CAPITAL MARKETS</td>\n      <td>Contract for Difference</td>\n      <td>BOKU Inc</td>\n    </tr>\n    <tr>\n      <th>22092</th>\n      <td>2018-12-31</td>\n      <td>Canada</td>\n      <td>Basic Materials</td>\n      <td>2.510541e+06</td>\n      <td>-1.158847e+06</td>\n      <td>1.019061e+08</td>\n      <td>CAPITAL MARKETS</td>\n      <td>Equity</td>\n      <td>Cobalt 27 Capital Corp</td>\n    </tr>\n  </tbody>\n</table>\n<p>918 rows × 9 columns</p>\n</div>",
                "text/plain": "            date  ...                        issuer\n85    2018-01-31  ...  Kabel Deutschland Holding AG\n188   2018-01-31  ...             Unipol Gruppo SpA\n305   2018-01-31  ...                     HALDEX AB\n521   2018-01-31  ...                    Wessex Ltd\n524   2018-01-31  ...               ANSALDO STS SPA\n...          ...  ...                           ...\n22085 2018-12-31  ...                     HALDEX AB\n22086 2018-12-31  ...                   Naspers Ltd\n22087 2018-12-31  ...          Jadestone Energy Inc\n22088 2018-12-31  ...                      BOKU Inc\n22092 2018-12-31  ...        Cobalt 27 Capital Corp\n\n[918 rows x 9 columns]"
              }
            ],
            "_view_module": "@jupyter-widgets/output",
            "_model_module_version": "1.0.0",
            "_view_count": null,
            "_view_module_version": "1.0.0",
            "layout": "IPY_MODEL_e443d6e70a2c4dfdaa4b9e14d7f85ce5",
            "_model_module": "@jupyter-widgets/output"
          }
        },
        "9c74ac44cec84f6a960787a8663e8e0f": {
          "model_module": "@jupyter-widgets/controls",
          "model_name": "DescriptionStyleModel",
          "state": {
            "_view_name": "StyleView",
            "_model_name": "DescriptionStyleModel",
            "description_width": "",
            "_view_module": "@jupyter-widgets/base",
            "_model_module_version": "1.5.0",
            "_view_count": null,
            "_view_module_version": "1.2.0",
            "_model_module": "@jupyter-widgets/controls"
          }
        },
        "e50f2754565f4ab1b12a6f2ba14cdde1": {
          "model_module": "@jupyter-widgets/base",
          "model_name": "LayoutModel",
          "state": {
            "_view_name": "LayoutView",
            "grid_template_rows": null,
            "right": null,
            "justify_content": null,
            "_view_module": "@jupyter-widgets/base",
            "overflow": null,
            "_model_module_version": "1.2.0",
            "_view_count": null,
            "flex_flow": null,
            "width": null,
            "min_width": null,
            "border": null,
            "align_items": null,
            "bottom": null,
            "_model_module": "@jupyter-widgets/base",
            "top": null,
            "grid_column": null,
            "overflow_y": null,
            "overflow_x": null,
            "grid_auto_flow": null,
            "grid_area": null,
            "grid_template_columns": null,
            "flex": null,
            "_model_name": "LayoutModel",
            "justify_items": null,
            "grid_row": null,
            "max_height": null,
            "align_content": null,
            "visibility": null,
            "align_self": null,
            "height": null,
            "min_height": null,
            "padding": null,
            "grid_auto_rows": null,
            "grid_gap": null,
            "max_width": null,
            "order": null,
            "_view_module_version": "1.2.0",
            "grid_template_areas": null,
            "object_position": null,
            "object_fit": null,
            "grid_auto_columns": null,
            "margin": null,
            "display": null,
            "left": null
          }
        },
        "21f088dfc88948cca764a28cbf237d40": {
          "model_module": "@jupyter-widgets/controls",
          "model_name": "SliderStyleModel",
          "state": {
            "_view_name": "StyleView",
            "handle_color": null,
            "_model_name": "SliderStyleModel",
            "description_width": "",
            "_view_module": "@jupyter-widgets/base",
            "_model_module_version": "1.5.0",
            "_view_count": null,
            "_view_module_version": "1.2.0",
            "_model_module": "@jupyter-widgets/controls"
          }
        },
        "fd9c9ab71df94971be9c98d84d3d3d3b": {
          "model_module": "@jupyter-widgets/base",
          "model_name": "LayoutModel",
          "state": {
            "_view_name": "LayoutView",
            "grid_template_rows": null,
            "right": null,
            "justify_content": null,
            "_view_module": "@jupyter-widgets/base",
            "overflow": null,
            "_model_module_version": "1.2.0",
            "_view_count": null,
            "flex_flow": null,
            "width": null,
            "min_width": null,
            "border": null,
            "align_items": null,
            "bottom": null,
            "_model_module": "@jupyter-widgets/base",
            "top": null,
            "grid_column": null,
            "overflow_y": null,
            "overflow_x": null,
            "grid_auto_flow": null,
            "grid_area": null,
            "grid_template_columns": null,
            "flex": null,
            "_model_name": "LayoutModel",
            "justify_items": null,
            "grid_row": null,
            "max_height": null,
            "align_content": null,
            "visibility": null,
            "align_self": null,
            "height": null,
            "min_height": null,
            "padding": null,
            "grid_auto_rows": null,
            "grid_gap": null,
            "max_width": null,
            "order": null,
            "_view_module_version": "1.2.0",
            "grid_template_areas": null,
            "object_position": null,
            "object_fit": null,
            "grid_auto_columns": null,
            "margin": null,
            "display": null,
            "left": null
          }
        },
        "e443d6e70a2c4dfdaa4b9e14d7f85ce5": {
          "model_module": "@jupyter-widgets/base",
          "model_name": "LayoutModel",
          "state": {
            "_view_name": "LayoutView",
            "grid_template_rows": null,
            "right": null,
            "justify_content": null,
            "_view_module": "@jupyter-widgets/base",
            "overflow": null,
            "_model_module_version": "1.2.0",
            "_view_count": null,
            "flex_flow": null,
            "width": null,
            "min_width": null,
            "border": null,
            "align_items": null,
            "bottom": null,
            "_model_module": "@jupyter-widgets/base",
            "top": null,
            "grid_column": null,
            "overflow_y": null,
            "overflow_x": null,
            "grid_auto_flow": null,
            "grid_area": null,
            "grid_template_columns": null,
            "flex": null,
            "_model_name": "LayoutModel",
            "justify_items": null,
            "grid_row": null,
            "max_height": null,
            "align_content": null,
            "visibility": null,
            "align_self": null,
            "height": null,
            "min_height": null,
            "padding": null,
            "grid_auto_rows": null,
            "grid_gap": null,
            "max_width": null,
            "order": null,
            "_view_module_version": "1.2.0",
            "grid_template_areas": null,
            "object_position": null,
            "object_fit": null,
            "grid_auto_columns": null,
            "margin": null,
            "display": null,
            "left": null
          }
        },
        "7858bc4fe88841c68b7d3133b43a521b": {
          "model_module": "@jupyter-widgets/controls",
          "model_name": "VBoxModel",
          "state": {
            "_view_name": "VBoxView",
            "_dom_classes": [
              "widget-interact"
            ],
            "_model_name": "VBoxModel",
            "_view_module": "@jupyter-widgets/controls",
            "_model_module_version": "1.5.0",
            "_view_count": null,
            "_view_module_version": "1.5.0",
            "box_style": "",
            "layout": "IPY_MODEL_8a170928bb2e4fbfac5184ccbef62684",
            "_model_module": "@jupyter-widgets/controls",
            "children": [
              "IPY_MODEL_21d0efee0b1f4f679836309e5ecdcba3",
              "IPY_MODEL_55f731900a804cf290ed8b535a4f731f",
              "IPY_MODEL_96d671bcc08f493c9d5cbd84a744a996",
              "IPY_MODEL_cf1e79664b4c434484df7587544b21c6"
            ]
          }
        },
        "8a170928bb2e4fbfac5184ccbef62684": {
          "model_module": "@jupyter-widgets/base",
          "model_name": "LayoutModel",
          "state": {
            "_view_name": "LayoutView",
            "grid_template_rows": null,
            "right": null,
            "justify_content": null,
            "_view_module": "@jupyter-widgets/base",
            "overflow": null,
            "_model_module_version": "1.2.0",
            "_view_count": null,
            "flex_flow": null,
            "width": null,
            "min_width": null,
            "border": null,
            "align_items": null,
            "bottom": null,
            "_model_module": "@jupyter-widgets/base",
            "top": null,
            "grid_column": null,
            "overflow_y": null,
            "overflow_x": null,
            "grid_auto_flow": null,
            "grid_area": null,
            "grid_template_columns": null,
            "flex": null,
            "_model_name": "LayoutModel",
            "justify_items": null,
            "grid_row": null,
            "max_height": null,
            "align_content": null,
            "visibility": null,
            "align_self": null,
            "height": null,
            "min_height": null,
            "padding": null,
            "grid_auto_rows": null,
            "grid_gap": null,
            "max_width": null,
            "order": null,
            "_view_module_version": "1.2.0",
            "grid_template_areas": null,
            "object_position": null,
            "object_fit": null,
            "grid_auto_columns": null,
            "margin": null,
            "display": null,
            "left": null
          }
        },
        "21d0efee0b1f4f679836309e5ecdcba3": {
          "model_module": "@jupyter-widgets/controls",
          "model_name": "DropdownModel",
          "state": {
            "_options_labels": [
              "SPECIAL SITUATIONS",
              "CAPITAL MARKETS",
              "ARBITRAGE"
            ],
            "_view_name": "DropdownView",
            "style": "IPY_MODEL_52b8737c314947118a17d817113d0725",
            "_dom_classes": [],
            "description": "strategy_1",
            "_model_name": "DropdownModel",
            "index": 1,
            "_view_module": "@jupyter-widgets/controls",
            "_model_module_version": "1.5.0",
            "_view_count": null,
            "disabled": false,
            "_view_module_version": "1.5.0",
            "description_tooltip": null,
            "_model_module": "@jupyter-widgets/controls",
            "layout": "IPY_MODEL_bbf4edc7f47b4a2e8b3467c30d6ea17a"
          }
        },
        "55f731900a804cf290ed8b535a4f731f": {
          "model_module": "@jupyter-widgets/controls",
          "model_name": "DropdownModel",
          "state": {
            "_options_labels": [
              "SPECIAL SITUATIONS",
              "CAPITAL MARKETS",
              "ARBITRAGE"
            ],
            "_view_name": "DropdownView",
            "style": "IPY_MODEL_10c0c132aa804e118d1275cec96a1032",
            "_dom_classes": [],
            "description": "strategy_2",
            "_model_name": "DropdownModel",
            "index": 2,
            "_view_module": "@jupyter-widgets/controls",
            "_model_module_version": "1.5.0",
            "_view_count": null,
            "disabled": false,
            "_view_module_version": "1.5.0",
            "description_tooltip": null,
            "_model_module": "@jupyter-widgets/controls",
            "layout": "IPY_MODEL_6e865adb23fd48029ec914c8a6eb60e4"
          }
        },
        "96d671bcc08f493c9d5cbd84a744a996": {
          "model_module": "@jupyter-widgets/controls",
          "model_name": "DropdownModel",
          "state": {
            "_options_labels": [
              "exposure",
              "mtd"
            ],
            "_view_name": "DropdownView",
            "style": "IPY_MODEL_000d98edb2dd460086982806d22d2a8b",
            "_dom_classes": [],
            "description": "metric",
            "_model_name": "DropdownModel",
            "index": 1,
            "_view_module": "@jupyter-widgets/controls",
            "_model_module_version": "1.5.0",
            "_view_count": null,
            "disabled": false,
            "_view_module_version": "1.5.0",
            "description_tooltip": null,
            "_model_module": "@jupyter-widgets/controls",
            "layout": "IPY_MODEL_c472272f0ee94679bfd7977750486bd8"
          }
        },
        "cf1e79664b4c434484df7587544b21c6": {
          "model_module": "@jupyter-widgets/output",
          "model_name": "OutputModel",
          "state": {
            "_view_name": "OutputView",
            "msg_id": "",
            "_dom_classes": [],
            "_model_name": "OutputModel",
            "outputs": [
              {
                "output_type": "stream",
                "metadata": {
                  "tags": []
                },
                "text": "0.3373\n",
                "stream": "stdout"
              }
            ],
            "_view_module": "@jupyter-widgets/output",
            "_model_module_version": "1.0.0",
            "_view_count": null,
            "_view_module_version": "1.0.0",
            "layout": "IPY_MODEL_33cf7a26725646a9a5be8353aca90a6f",
            "_model_module": "@jupyter-widgets/output"
          }
        },
        "52b8737c314947118a17d817113d0725": {
          "model_module": "@jupyter-widgets/controls",
          "model_name": "DescriptionStyleModel",
          "state": {
            "_view_name": "StyleView",
            "_model_name": "DescriptionStyleModel",
            "description_width": "",
            "_view_module": "@jupyter-widgets/base",
            "_model_module_version": "1.5.0",
            "_view_count": null,
            "_view_module_version": "1.2.0",
            "_model_module": "@jupyter-widgets/controls"
          }
        },
        "bbf4edc7f47b4a2e8b3467c30d6ea17a": {
          "model_module": "@jupyter-widgets/base",
          "model_name": "LayoutModel",
          "state": {
            "_view_name": "LayoutView",
            "grid_template_rows": null,
            "right": null,
            "justify_content": null,
            "_view_module": "@jupyter-widgets/base",
            "overflow": null,
            "_model_module_version": "1.2.0",
            "_view_count": null,
            "flex_flow": null,
            "width": null,
            "min_width": null,
            "border": null,
            "align_items": null,
            "bottom": null,
            "_model_module": "@jupyter-widgets/base",
            "top": null,
            "grid_column": null,
            "overflow_y": null,
            "overflow_x": null,
            "grid_auto_flow": null,
            "grid_area": null,
            "grid_template_columns": null,
            "flex": null,
            "_model_name": "LayoutModel",
            "justify_items": null,
            "grid_row": null,
            "max_height": null,
            "align_content": null,
            "visibility": null,
            "align_self": null,
            "height": null,
            "min_height": null,
            "padding": null,
            "grid_auto_rows": null,
            "grid_gap": null,
            "max_width": null,
            "order": null,
            "_view_module_version": "1.2.0",
            "grid_template_areas": null,
            "object_position": null,
            "object_fit": null,
            "grid_auto_columns": null,
            "margin": null,
            "display": null,
            "left": null
          }
        },
        "10c0c132aa804e118d1275cec96a1032": {
          "model_module": "@jupyter-widgets/controls",
          "model_name": "DescriptionStyleModel",
          "state": {
            "_view_name": "StyleView",
            "_model_name": "DescriptionStyleModel",
            "description_width": "",
            "_view_module": "@jupyter-widgets/base",
            "_model_module_version": "1.5.0",
            "_view_count": null,
            "_view_module_version": "1.2.0",
            "_model_module": "@jupyter-widgets/controls"
          }
        },
        "6e865adb23fd48029ec914c8a6eb60e4": {
          "model_module": "@jupyter-widgets/base",
          "model_name": "LayoutModel",
          "state": {
            "_view_name": "LayoutView",
            "grid_template_rows": null,
            "right": null,
            "justify_content": null,
            "_view_module": "@jupyter-widgets/base",
            "overflow": null,
            "_model_module_version": "1.2.0",
            "_view_count": null,
            "flex_flow": null,
            "width": null,
            "min_width": null,
            "border": null,
            "align_items": null,
            "bottom": null,
            "_model_module": "@jupyter-widgets/base",
            "top": null,
            "grid_column": null,
            "overflow_y": null,
            "overflow_x": null,
            "grid_auto_flow": null,
            "grid_area": null,
            "grid_template_columns": null,
            "flex": null,
            "_model_name": "LayoutModel",
            "justify_items": null,
            "grid_row": null,
            "max_height": null,
            "align_content": null,
            "visibility": null,
            "align_self": null,
            "height": null,
            "min_height": null,
            "padding": null,
            "grid_auto_rows": null,
            "grid_gap": null,
            "max_width": null,
            "order": null,
            "_view_module_version": "1.2.0",
            "grid_template_areas": null,
            "object_position": null,
            "object_fit": null,
            "grid_auto_columns": null,
            "margin": null,
            "display": null,
            "left": null
          }
        },
        "000d98edb2dd460086982806d22d2a8b": {
          "model_module": "@jupyter-widgets/controls",
          "model_name": "DescriptionStyleModel",
          "state": {
            "_view_name": "StyleView",
            "_model_name": "DescriptionStyleModel",
            "description_width": "",
            "_view_module": "@jupyter-widgets/base",
            "_model_module_version": "1.5.0",
            "_view_count": null,
            "_view_module_version": "1.2.0",
            "_model_module": "@jupyter-widgets/controls"
          }
        },
        "c472272f0ee94679bfd7977750486bd8": {
          "model_module": "@jupyter-widgets/base",
          "model_name": "LayoutModel",
          "state": {
            "_view_name": "LayoutView",
            "grid_template_rows": null,
            "right": null,
            "justify_content": null,
            "_view_module": "@jupyter-widgets/base",
            "overflow": null,
            "_model_module_version": "1.2.0",
            "_view_count": null,
            "flex_flow": null,
            "width": null,
            "min_width": null,
            "border": null,
            "align_items": null,
            "bottom": null,
            "_model_module": "@jupyter-widgets/base",
            "top": null,
            "grid_column": null,
            "overflow_y": null,
            "overflow_x": null,
            "grid_auto_flow": null,
            "grid_area": null,
            "grid_template_columns": null,
            "flex": null,
            "_model_name": "LayoutModel",
            "justify_items": null,
            "grid_row": null,
            "max_height": null,
            "align_content": null,
            "visibility": null,
            "align_self": null,
            "height": null,
            "min_height": null,
            "padding": null,
            "grid_auto_rows": null,
            "grid_gap": null,
            "max_width": null,
            "order": null,
            "_view_module_version": "1.2.0",
            "grid_template_areas": null,
            "object_position": null,
            "object_fit": null,
            "grid_auto_columns": null,
            "margin": null,
            "display": null,
            "left": null
          }
        },
        "33cf7a26725646a9a5be8353aca90a6f": {
          "model_module": "@jupyter-widgets/base",
          "model_name": "LayoutModel",
          "state": {
            "_view_name": "LayoutView",
            "grid_template_rows": null,
            "right": null,
            "justify_content": null,
            "_view_module": "@jupyter-widgets/base",
            "overflow": null,
            "_model_module_version": "1.2.0",
            "_view_count": null,
            "flex_flow": null,
            "width": null,
            "min_width": null,
            "border": null,
            "align_items": null,
            "bottom": null,
            "_model_module": "@jupyter-widgets/base",
            "top": null,
            "grid_column": null,
            "overflow_y": null,
            "overflow_x": null,
            "grid_auto_flow": null,
            "grid_area": null,
            "grid_template_columns": null,
            "flex": null,
            "_model_name": "LayoutModel",
            "justify_items": null,
            "grid_row": null,
            "max_height": null,
            "align_content": null,
            "visibility": null,
            "align_self": null,
            "height": null,
            "min_height": null,
            "padding": null,
            "grid_auto_rows": null,
            "grid_gap": null,
            "max_width": null,
            "order": null,
            "_view_module_version": "1.2.0",
            "grid_template_areas": null,
            "object_position": null,
            "object_fit": null,
            "grid_auto_columns": null,
            "margin": null,
            "display": null,
            "left": null
          }
        },
        "ff0133843b8949fa8a3d79a7f58c2356": {
          "model_module": "@jupyter-widgets/controls",
          "model_name": "VBoxModel",
          "state": {
            "_view_name": "VBoxView",
            "_dom_classes": [
              "widget-interact"
            ],
            "_model_name": "VBoxModel",
            "_view_module": "@jupyter-widgets/controls",
            "_model_module_version": "1.5.0",
            "_view_count": null,
            "_view_module_version": "1.5.0",
            "box_style": "",
            "layout": "IPY_MODEL_1011e91a34554cf69f964f24b5e510ab",
            "_model_module": "@jupyter-widgets/controls",
            "children": [
              "IPY_MODEL_efc622269d744ec3b871441cc909767a",
              "IPY_MODEL_aad62f80b6d84b79bb4d567752dceae7"
            ]
          }
        },
        "1011e91a34554cf69f964f24b5e510ab": {
          "model_module": "@jupyter-widgets/base",
          "model_name": "LayoutModel",
          "state": {
            "_view_name": "LayoutView",
            "grid_template_rows": null,
            "right": null,
            "justify_content": null,
            "_view_module": "@jupyter-widgets/base",
            "overflow": null,
            "_model_module_version": "1.2.0",
            "_view_count": null,
            "flex_flow": null,
            "width": null,
            "min_width": null,
            "border": null,
            "align_items": null,
            "bottom": null,
            "_model_module": "@jupyter-widgets/base",
            "top": null,
            "grid_column": null,
            "overflow_y": null,
            "overflow_x": null,
            "grid_auto_flow": null,
            "grid_area": null,
            "grid_template_columns": null,
            "flex": null,
            "_model_name": "LayoutModel",
            "justify_items": null,
            "grid_row": null,
            "max_height": null,
            "align_content": null,
            "visibility": null,
            "align_self": null,
            "height": null,
            "min_height": null,
            "padding": null,
            "grid_auto_rows": null,
            "grid_gap": null,
            "max_width": null,
            "order": null,
            "_view_module_version": "1.2.0",
            "grid_template_areas": null,
            "object_position": null,
            "object_fit": null,
            "grid_auto_columns": null,
            "margin": null,
            "display": null,
            "left": null
          }
        },
        "efc622269d744ec3b871441cc909767a": {
          "model_module": "@jupyter-widgets/controls",
          "model_name": "DropdownModel",
          "state": {
            "_options_labels": [
              "SPECIAL SITUATIONS",
              "CAPITAL MARKETS",
              "ARBITRAGE"
            ],
            "_view_name": "DropdownView",
            "style": "IPY_MODEL_b66b497095d94ccf95769d13dcea4b36",
            "_dom_classes": [],
            "description": "strategy",
            "_model_name": "DropdownModel",
            "index": 0,
            "_view_module": "@jupyter-widgets/controls",
            "_model_module_version": "1.5.0",
            "_view_count": null,
            "disabled": false,
            "_view_module_version": "1.5.0",
            "description_tooltip": null,
            "_model_module": "@jupyter-widgets/controls",
            "layout": "IPY_MODEL_31647a22b2cf415f884ff3aa4c216999"
          }
        },
        "aad62f80b6d84b79bb4d567752dceae7": {
          "model_module": "@jupyter-widgets/output",
          "model_name": "OutputModel",
          "state": {
            "_view_name": "OutputView",
            "msg_id": "",
            "_dom_classes": [],
            "_model_name": "OutputModel",
            "outputs": [
              {
                "output_type": "display_data",
                "metadata": {
                  "tags": [],
                  "needs_background": "light"
                },
                "image/png": "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\n",
                "text/plain": "<Figure size 432x288 with 1 Axes>"
              }
            ],
            "_view_module": "@jupyter-widgets/output",
            "_model_module_version": "1.0.0",
            "_view_count": null,
            "_view_module_version": "1.0.0",
            "layout": "IPY_MODEL_13297b5344d54a168b03b6c8d577cb12",
            "_model_module": "@jupyter-widgets/output"
          }
        },
        "b66b497095d94ccf95769d13dcea4b36": {
          "model_module": "@jupyter-widgets/controls",
          "model_name": "DescriptionStyleModel",
          "state": {
            "_view_name": "StyleView",
            "_model_name": "DescriptionStyleModel",
            "description_width": "",
            "_view_module": "@jupyter-widgets/base",
            "_model_module_version": "1.5.0",
            "_view_count": null,
            "_view_module_version": "1.2.0",
            "_model_module": "@jupyter-widgets/controls"
          }
        },
        "31647a22b2cf415f884ff3aa4c216999": {
          "model_module": "@jupyter-widgets/base",
          "model_name": "LayoutModel",
          "state": {
            "_view_name": "LayoutView",
            "grid_template_rows": null,
            "right": null,
            "justify_content": null,
            "_view_module": "@jupyter-widgets/base",
            "overflow": null,
            "_model_module_version": "1.2.0",
            "_view_count": null,
            "flex_flow": null,
            "width": null,
            "min_width": null,
            "border": null,
            "align_items": null,
            "bottom": null,
            "_model_module": "@jupyter-widgets/base",
            "top": null,
            "grid_column": null,
            "overflow_y": null,
            "overflow_x": null,
            "grid_auto_flow": null,
            "grid_area": null,
            "grid_template_columns": null,
            "flex": null,
            "_model_name": "LayoutModel",
            "justify_items": null,
            "grid_row": null,
            "max_height": null,
            "align_content": null,
            "visibility": null,
            "align_self": null,
            "height": null,
            "min_height": null,
            "padding": null,
            "grid_auto_rows": null,
            "grid_gap": null,
            "max_width": null,
            "order": null,
            "_view_module_version": "1.2.0",
            "grid_template_areas": null,
            "object_position": null,
            "object_fit": null,
            "grid_auto_columns": null,
            "margin": null,
            "display": null,
            "left": null
          }
        },
        "13297b5344d54a168b03b6c8d577cb12": {
          "model_module": "@jupyter-widgets/base",
          "model_name": "LayoutModel",
          "state": {
            "_view_name": "LayoutView",
            "grid_template_rows": null,
            "right": null,
            "justify_content": null,
            "_view_module": "@jupyter-widgets/base",
            "overflow": null,
            "_model_module_version": "1.2.0",
            "_view_count": null,
            "flex_flow": null,
            "width": null,
            "min_width": null,
            "border": null,
            "align_items": null,
            "bottom": null,
            "_model_module": "@jupyter-widgets/base",
            "top": null,
            "grid_column": null,
            "overflow_y": null,
            "overflow_x": null,
            "grid_auto_flow": null,
            "grid_area": null,
            "grid_template_columns": null,
            "flex": null,
            "_model_name": "LayoutModel",
            "justify_items": null,
            "grid_row": null,
            "max_height": null,
            "align_content": null,
            "visibility": null,
            "align_self": null,
            "height": null,
            "min_height": null,
            "padding": null,
            "grid_auto_rows": null,
            "grid_gap": null,
            "max_width": null,
            "order": null,
            "_view_module_version": "1.2.0",
            "grid_template_areas": null,
            "object_position": null,
            "object_fit": null,
            "grid_auto_columns": null,
            "margin": null,
            "display": null,
            "left": null
          }
        }
      }
    }
  },
  "cells": [
    {
      "cell_type": "markdown",
      "metadata": {
        "id": "view-in-github",
        "colab_type": "text"
      },
      "source": [
        "<a href=\"https://colab.research.google.com/github/despiegj/2020/blob/master/Portfolio_Analysis.ipynb\" target=\"_parent\"><img src=\"https://colab.research.google.com/assets/colab-badge.svg\" alt=\"Open In Colab\"/></a>"
      ]
    },
    {
      "cell_type": "code",
      "metadata": {
        "id": "LiQzbAJl8XOT",
        "colab_type": "code",
        "colab": {}
      },
      "source": [
        "import pandas as pd\n",
        "import numpy as np"
      ],
      "execution_count": 15,
      "outputs": []
    },
    {
      "cell_type": "markdown",
      "metadata": {
        "id": "PsPSA9Ai8XOX",
        "colab_type": "text"
      },
      "source": [
        "Reading Data"
      ]
    },
    {
      "cell_type": "code",
      "metadata": {
        "id": "hVYU4wsy8XOY",
        "colab_type": "code",
        "colab": {}
      },
      "source": [
        "df = pd.read_excel('/content/drive/My Drive/Colab Notebooks/ridge/Portfolio.xls')"
      ],
      "execution_count": 5,
      "outputs": []
    },
    {
      "cell_type": "code",
      "metadata": {
        "id": "uZ0hJKnL8XOb",
        "colab_type": "code",
        "colab": {
          "base_uri": "https://localhost:8080/",
          "height": 174
        },
        "outputId": "ff6826c6-5a36-4151-fd97-68a3031e70bf"
      },
      "source": [
        "set(df.columns)"
      ],
      "execution_count": 6,
      "outputs": [
        {
          "output_type": "execute_result",
          "data": {
            "text/plain": [
              "{'country',\n",
              " 'date',\n",
              " 'exposure',\n",
              " 'issuer',\n",
              " 'mtd',\n",
              " 'nav',\n",
              " 'sector',\n",
              " 'strategy',\n",
              " 'type'}"
            ]
          },
          "metadata": {
            "tags": []
          },
          "execution_count": 6
        }
      ]
    },
    {
      "cell_type": "markdown",
      "metadata": {
        "id": "0jztiv3i8XOe",
        "colab_type": "text"
      },
      "source": [
        "Import the widgets"
      ]
    },
    {
      "cell_type": "code",
      "metadata": {
        "id": "VChYOjau8XOf",
        "colab_type": "code",
        "colab": {}
      },
      "source": [
        "import ipywidgets as widgets\n",
        "from ipywidgets import interact, interact_manual"
      ],
      "execution_count": 7,
      "outputs": []
    },
    {
      "cell_type": "code",
      "metadata": {
        "id": "t9CtRkAO8XOi",
        "colab_type": "code",
        "colab": {
          "base_uri": "https://localhost:8080/",
          "height": 340
        },
        "outputId": "85b92dea-bcaf-4c09-bc78-48b0e14bd5d5"
      },
      "source": [
        "df.head()"
      ],
      "execution_count": 8,
      "outputs": [
        {
          "output_type": "execute_result",
          "data": {
            "text/html": [
              "<div>\n",
              "<style scoped>\n",
              "    .dataframe tbody tr th:only-of-type {\n",
              "        vertical-align: middle;\n",
              "    }\n",
              "\n",
              "    .dataframe tbody tr th {\n",
              "        vertical-align: top;\n",
              "    }\n",
              "\n",
              "    .dataframe thead th {\n",
              "        text-align: right;\n",
              "    }\n",
              "</style>\n",
              "<table border=\"1\" class=\"dataframe\">\n",
              "  <thead>\n",
              "    <tr style=\"text-align: right;\">\n",
              "      <th></th>\n",
              "      <th>date</th>\n",
              "      <th>country</th>\n",
              "      <th>sector</th>\n",
              "      <th>exposure</th>\n",
              "      <th>mtd</th>\n",
              "      <th>nav</th>\n",
              "      <th>strategy</th>\n",
              "      <th>type</th>\n",
              "      <th>issuer</th>\n",
              "    </tr>\n",
              "  </thead>\n",
              "  <tbody>\n",
              "    <tr>\n",
              "      <th>0</th>\n",
              "      <td>2018-01-31</td>\n",
              "      <td>Switzerland</td>\n",
              "      <td>Consumer, Non-cyclical</td>\n",
              "      <td>0.0</td>\n",
              "      <td>0.0</td>\n",
              "      <td>1.884133e+08</td>\n",
              "      <td>SPECIAL SITUATIONS</td>\n",
              "      <td>Equity</td>\n",
              "      <td>Degroof</td>\n",
              "    </tr>\n",
              "    <tr>\n",
              "      <th>1</th>\n",
              "      <td>2018-01-31</td>\n",
              "      <td>Sweden</td>\n",
              "      <td>Consumer, Non-cyclical</td>\n",
              "      <td>0.0</td>\n",
              "      <td>0.0</td>\n",
              "      <td>1.884133e+08</td>\n",
              "      <td>CAPITAL MARKETS</td>\n",
              "      <td>Equity</td>\n",
              "      <td>SVENSKA CELLULOSA AB SCA</td>\n",
              "    </tr>\n",
              "    <tr>\n",
              "      <th>2</th>\n",
              "      <td>2018-01-31</td>\n",
              "      <td>Netherlands</td>\n",
              "      <td>Utilities</td>\n",
              "      <td>0.0</td>\n",
              "      <td>0.0</td>\n",
              "      <td>1.884133e+08</td>\n",
              "      <td>CAPITAL MARKETS</td>\n",
              "      <td>Bond Convertible</td>\n",
              "      <td>IBERDROLA SA</td>\n",
              "    </tr>\n",
              "    <tr>\n",
              "      <th>3</th>\n",
              "      <td>2018-01-31</td>\n",
              "      <td>Germany</td>\n",
              "      <td>Basic Materials</td>\n",
              "      <td>0.0</td>\n",
              "      <td>0.0</td>\n",
              "      <td>1.884133e+08</td>\n",
              "      <td>CAPITAL MARKETS</td>\n",
              "      <td>Equity</td>\n",
              "      <td>Evonik Industries AG</td>\n",
              "    </tr>\n",
              "    <tr>\n",
              "      <th>4</th>\n",
              "      <td>2018-01-31</td>\n",
              "      <td>United States</td>\n",
              "      <td>Financial</td>\n",
              "      <td>0.0</td>\n",
              "      <td>0.0</td>\n",
              "      <td>1.884133e+08</td>\n",
              "      <td>CAPITAL MARKETS</td>\n",
              "      <td>Equity</td>\n",
              "      <td>First Republic Bank/CA</td>\n",
              "    </tr>\n",
              "  </tbody>\n",
              "</table>\n",
              "</div>"
            ],
            "text/plain": [
              "        date        country  ...              type                    issuer\n",
              "0 2018-01-31    Switzerland  ...            Equity                   Degroof\n",
              "1 2018-01-31         Sweden  ...            Equity  SVENSKA CELLULOSA AB SCA\n",
              "2 2018-01-31    Netherlands  ...  Bond Convertible              IBERDROLA SA\n",
              "3 2018-01-31        Germany  ...            Equity      Evonik Industries AG\n",
              "4 2018-01-31  United States  ...            Equity    First Republic Bank/CA\n",
              "\n",
              "[5 rows x 9 columns]"
            ]
          },
          "metadata": {
            "tags": []
          },
          "execution_count": 8
        }
      ]
    },
    {
      "cell_type": "markdown",
      "metadata": {
        "id": "xoavWwlP8XOp",
        "colab_type": "text"
      },
      "source": [
        "Imagine you want to see positons where MTD > 5\n",
        "0000"
      ]
    },
    {
      "cell_type": "code",
      "metadata": {
        "id": "q6jFj6ZP8XOq",
        "colab_type": "code",
        "colab": {
          "base_uri": "https://localhost:8080/",
          "height": 711
        },
        "outputId": "e7f0553b-1e42-42db-871b-b7f9a1888811"
      },
      "source": [
        "df.loc[df['mtd']>500000]"
      ],
      "execution_count": 10,
      "outputs": [
        {
          "output_type": "execute_result",
          "data": {
            "text/html": [
              "<div>\n",
              "<style scoped>\n",
              "    .dataframe tbody tr th:only-of-type {\n",
              "        vertical-align: middle;\n",
              "    }\n",
              "\n",
              "    .dataframe tbody tr th {\n",
              "        vertical-align: top;\n",
              "    }\n",
              "\n",
              "    .dataframe thead th {\n",
              "        text-align: right;\n",
              "    }\n",
              "</style>\n",
              "<table border=\"1\" class=\"dataframe\">\n",
              "  <thead>\n",
              "    <tr style=\"text-align: right;\">\n",
              "      <th></th>\n",
              "      <th>date</th>\n",
              "      <th>country</th>\n",
              "      <th>sector</th>\n",
              "      <th>exposure</th>\n",
              "      <th>mtd</th>\n",
              "      <th>nav</th>\n",
              "      <th>strategy</th>\n",
              "      <th>type</th>\n",
              "      <th>issuer</th>\n",
              "    </tr>\n",
              "  </thead>\n",
              "  <tbody>\n",
              "    <tr>\n",
              "      <th>188</th>\n",
              "      <td>2018-01-31</td>\n",
              "      <td>Italy</td>\n",
              "      <td>Financial</td>\n",
              "      <td>1.004126e+07</td>\n",
              "      <td>1.519605e+06</td>\n",
              "      <td>1.884133e+08</td>\n",
              "      <td>ARBITRAGE</td>\n",
              "      <td>Equity</td>\n",
              "      <td>Unipol Gruppo SpA</td>\n",
              "    </tr>\n",
              "    <tr>\n",
              "      <th>640</th>\n",
              "      <td>2018-01-31</td>\n",
              "      <td>United Kingdom</td>\n",
              "      <td>Communications</td>\n",
              "      <td>1.054166e+07</td>\n",
              "      <td>5.612877e+05</td>\n",
              "      <td>1.884133e+08</td>\n",
              "      <td>ARBITRAGE</td>\n",
              "      <td>Contract for Difference</td>\n",
              "      <td>Sky PLC</td>\n",
              "    </tr>\n",
              "    <tr>\n",
              "      <th>688</th>\n",
              "      <td>2018-01-31</td>\n",
              "      <td>United States</td>\n",
              "      <td>Diversified</td>\n",
              "      <td>1.757360e+07</td>\n",
              "      <td>2.206600e+06</td>\n",
              "      <td>1.884133e+08</td>\n",
              "      <td>ARBITRAGE</td>\n",
              "      <td>Equity</td>\n",
              "      <td>Yahoo! Inc</td>\n",
              "    </tr>\n",
              "    <tr>\n",
              "      <th>793</th>\n",
              "      <td>2018-01-31</td>\n",
              "      <td>Spain</td>\n",
              "      <td>Consumer, Non-cyclical</td>\n",
              "      <td>1.459022e+07</td>\n",
              "      <td>1.225320e+06</td>\n",
              "      <td>1.884133e+08</td>\n",
              "      <td>ARBITRAGE</td>\n",
              "      <td>Equity</td>\n",
              "      <td>Abertis Infraestructuras SA</td>\n",
              "    </tr>\n",
              "    <tr>\n",
              "      <th>820</th>\n",
              "      <td>2018-01-31</td>\n",
              "      <td>United States</td>\n",
              "      <td>Communications</td>\n",
              "      <td>1.191875e+07</td>\n",
              "      <td>5.202188e+05</td>\n",
              "      <td>1.884133e+08</td>\n",
              "      <td>ARBITRAGE</td>\n",
              "      <td>Equity</td>\n",
              "      <td>Time Warner Inc</td>\n",
              "    </tr>\n",
              "    <tr>\n",
              "      <th>...</th>\n",
              "      <td>...</td>\n",
              "      <td>...</td>\n",
              "      <td>...</td>\n",
              "      <td>...</td>\n",
              "      <td>...</td>\n",
              "      <td>...</td>\n",
              "      <td>...</td>\n",
              "      <td>...</td>\n",
              "      <td>...</td>\n",
              "    </tr>\n",
              "    <tr>\n",
              "      <th>19985</th>\n",
              "      <td>2018-11-30</td>\n",
              "      <td>United States</td>\n",
              "      <td>Industrial</td>\n",
              "      <td>-1.218400e+02</td>\n",
              "      <td>1.727883e+06</td>\n",
              "      <td>1.335799e+08</td>\n",
              "      <td>ARBITRAGE</td>\n",
              "      <td>Equity</td>\n",
              "      <td>United Technologies Corp</td>\n",
              "    </tr>\n",
              "    <tr>\n",
              "      <th>20000</th>\n",
              "      <td>2018-11-30</td>\n",
              "      <td>Italy</td>\n",
              "      <td>Diversified</td>\n",
              "      <td>8.277019e+05</td>\n",
              "      <td>6.621860e+05</td>\n",
              "      <td>1.335799e+08</td>\n",
              "      <td>CAPITAL MARKETS</td>\n",
              "      <td>Equity Right</td>\n",
              "      <td>Spaxs SpA</td>\n",
              "    </tr>\n",
              "    <tr>\n",
              "      <th>20007</th>\n",
              "      <td>2018-11-30</td>\n",
              "      <td>United States</td>\n",
              "      <td>Communications</td>\n",
              "      <td>8.409900e+06</td>\n",
              "      <td>6.715000e+05</td>\n",
              "      <td>1.335799e+08</td>\n",
              "      <td>ARBITRAGE</td>\n",
              "      <td>Equity</td>\n",
              "      <td>Twenty-First Century Fox Inc</td>\n",
              "    </tr>\n",
              "    <tr>\n",
              "      <th>20031</th>\n",
              "      <td>2018-12-31</td>\n",
              "      <td>United States</td>\n",
              "      <td>Technology</td>\n",
              "      <td>7.914985e+05</td>\n",
              "      <td>7.914985e+05</td>\n",
              "      <td>1.019061e+08</td>\n",
              "      <td>ARBITRAGE</td>\n",
              "      <td>Equity</td>\n",
              "      <td>Dell Technologies Inc</td>\n",
              "    </tr>\n",
              "    <tr>\n",
              "      <th>20048</th>\n",
              "      <td>2018-12-31</td>\n",
              "      <td>United States</td>\n",
              "      <td>Consumer, Non-cyclical</td>\n",
              "      <td>-5.085692e+06</td>\n",
              "      <td>5.842040e+05</td>\n",
              "      <td>1.019061e+08</td>\n",
              "      <td>ARBITRAGE</td>\n",
              "      <td>Contract for Difference</td>\n",
              "      <td>Takeda Pharmaceutical Co Ltd</td>\n",
              "    </tr>\n",
              "  </tbody>\n",
              "</table>\n",
              "<p>66 rows × 9 columns</p>\n",
              "</div>"
            ],
            "text/plain": [
              "            date  ...                        issuer\n",
              "188   2018-01-31  ...             Unipol Gruppo SpA\n",
              "640   2018-01-31  ...                       Sky PLC\n",
              "688   2018-01-31  ...                    Yahoo! Inc\n",
              "793   2018-01-31  ...   Abertis Infraestructuras SA\n",
              "820   2018-01-31  ...               Time Warner Inc\n",
              "...          ...  ...                           ...\n",
              "19985 2018-11-30  ...      United Technologies Corp\n",
              "20000 2018-11-30  ...                     Spaxs SpA\n",
              "20007 2018-11-30  ...  Twenty-First Century Fox Inc\n",
              "20031 2018-12-31  ...         Dell Technologies Inc\n",
              "20048 2018-12-31  ...  Takeda Pharmaceutical Co Ltd\n",
              "\n",
              "[66 rows x 9 columns]"
            ]
          },
          "metadata": {
            "tags": []
          },
          "execution_count": 10
        }
      ]
    },
    {
      "cell_type": "markdown",
      "metadata": {
        "id": "07-Hy7LA8XOt",
        "colab_type": "text"
      },
      "source": [
        "Positions with an exposure > 500K"
      ]
    },
    {
      "cell_type": "code",
      "metadata": {
        "id": "YBtbCsJb8XOu",
        "colab_type": "code",
        "colab": {
          "base_uri": "https://localhost:8080/",
          "height": 643
        },
        "outputId": "7ef072de-3153-4c69-856a-e3cf6f7e45de"
      },
      "source": [
        "df.loc[df['exposure']>500000]"
      ],
      "execution_count": 11,
      "outputs": [
        {
          "output_type": "execute_result",
          "data": {
            "text/html": [
              "<div>\n",
              "<style scoped>\n",
              "    .dataframe tbody tr th:only-of-type {\n",
              "        vertical-align: middle;\n",
              "    }\n",
              "\n",
              "    .dataframe tbody tr th {\n",
              "        vertical-align: top;\n",
              "    }\n",
              "\n",
              "    .dataframe thead th {\n",
              "        text-align: right;\n",
              "    }\n",
              "</style>\n",
              "<table border=\"1\" class=\"dataframe\">\n",
              "  <thead>\n",
              "    <tr style=\"text-align: right;\">\n",
              "      <th></th>\n",
              "      <th>date</th>\n",
              "      <th>country</th>\n",
              "      <th>sector</th>\n",
              "      <th>exposure</th>\n",
              "      <th>mtd</th>\n",
              "      <th>nav</th>\n",
              "      <th>strategy</th>\n",
              "      <th>type</th>\n",
              "      <th>issuer</th>\n",
              "    </tr>\n",
              "  </thead>\n",
              "  <tbody>\n",
              "    <tr>\n",
              "      <th>85</th>\n",
              "      <td>2018-01-31</td>\n",
              "      <td>Germany</td>\n",
              "      <td>Communications</td>\n",
              "      <td>1.015685e+07</td>\n",
              "      <td>4.777405e+05</td>\n",
              "      <td>1.884133e+08</td>\n",
              "      <td>ARBITRAGE</td>\n",
              "      <td>Equity</td>\n",
              "      <td>Kabel Deutschland Holding AG</td>\n",
              "    </tr>\n",
              "    <tr>\n",
              "      <th>188</th>\n",
              "      <td>2018-01-31</td>\n",
              "      <td>Italy</td>\n",
              "      <td>Financial</td>\n",
              "      <td>1.004126e+07</td>\n",
              "      <td>1.519605e+06</td>\n",
              "      <td>1.884133e+08</td>\n",
              "      <td>ARBITRAGE</td>\n",
              "      <td>Equity</td>\n",
              "      <td>Unipol Gruppo SpA</td>\n",
              "    </tr>\n",
              "    <tr>\n",
              "      <th>305</th>\n",
              "      <td>2018-01-31</td>\n",
              "      <td>Sweden</td>\n",
              "      <td>Consumer, Cyclical</td>\n",
              "      <td>3.464907e+06</td>\n",
              "      <td>2.663193e+05</td>\n",
              "      <td>1.884133e+08</td>\n",
              "      <td>ARBITRAGE</td>\n",
              "      <td>Equity</td>\n",
              "      <td>HALDEX AB</td>\n",
              "    </tr>\n",
              "    <tr>\n",
              "      <th>521</th>\n",
              "      <td>2018-01-31</td>\n",
              "      <td>United Kingdom</td>\n",
              "      <td>Financial</td>\n",
              "      <td>7.048968e+05</td>\n",
              "      <td>3.048024e+04</td>\n",
              "      <td>1.884133e+08</td>\n",
              "      <td>SPECIAL SITUATIONS</td>\n",
              "      <td>Bond Corporate</td>\n",
              "      <td>Wessex Ltd</td>\n",
              "    </tr>\n",
              "    <tr>\n",
              "      <th>524</th>\n",
              "      <td>2018-01-31</td>\n",
              "      <td>Italy</td>\n",
              "      <td>Industrial</td>\n",
              "      <td>4.831781e+06</td>\n",
              "      <td>2.506950e+05</td>\n",
              "      <td>1.884133e+08</td>\n",
              "      <td>ARBITRAGE</td>\n",
              "      <td>Equity</td>\n",
              "      <td>ANSALDO STS SPA</td>\n",
              "    </tr>\n",
              "    <tr>\n",
              "      <th>...</th>\n",
              "      <td>...</td>\n",
              "      <td>...</td>\n",
              "      <td>...</td>\n",
              "      <td>...</td>\n",
              "      <td>...</td>\n",
              "      <td>...</td>\n",
              "      <td>...</td>\n",
              "      <td>...</td>\n",
              "      <td>...</td>\n",
              "    </tr>\n",
              "    <tr>\n",
              "      <th>22085</th>\n",
              "      <td>2018-12-31</td>\n",
              "      <td>Sweden</td>\n",
              "      <td>Consumer, Cyclical</td>\n",
              "      <td>2.335869e+06</td>\n",
              "      <td>-3.033266e+04</td>\n",
              "      <td>1.019061e+08</td>\n",
              "      <td>ARBITRAGE</td>\n",
              "      <td>Equity</td>\n",
              "      <td>HALDEX AB</td>\n",
              "    </tr>\n",
              "    <tr>\n",
              "      <th>22086</th>\n",
              "      <td>2018-12-31</td>\n",
              "      <td>South Africa</td>\n",
              "      <td>Communications</td>\n",
              "      <td>3.103648e+06</td>\n",
              "      <td>2.855950e+04</td>\n",
              "      <td>1.019061e+08</td>\n",
              "      <td>ARBITRAGE</td>\n",
              "      <td>Equity</td>\n",
              "      <td>Naspers Ltd</td>\n",
              "    </tr>\n",
              "    <tr>\n",
              "      <th>22087</th>\n",
              "      <td>2018-12-31</td>\n",
              "      <td>United Kingdom</td>\n",
              "      <td>Energy</td>\n",
              "      <td>1.813352e+06</td>\n",
              "      <td>-1.104503e+05</td>\n",
              "      <td>1.019061e+08</td>\n",
              "      <td>CAPITAL MARKETS</td>\n",
              "      <td>Equity</td>\n",
              "      <td>Jadestone Energy Inc</td>\n",
              "    </tr>\n",
              "    <tr>\n",
              "      <th>22088</th>\n",
              "      <td>2018-12-31</td>\n",
              "      <td>United Kingdom</td>\n",
              "      <td>Financial</td>\n",
              "      <td>1.206661e+06</td>\n",
              "      <td>-5.124079e+05</td>\n",
              "      <td>1.019061e+08</td>\n",
              "      <td>CAPITAL MARKETS</td>\n",
              "      <td>Contract for Difference</td>\n",
              "      <td>BOKU Inc</td>\n",
              "    </tr>\n",
              "    <tr>\n",
              "      <th>22092</th>\n",
              "      <td>2018-12-31</td>\n",
              "      <td>Canada</td>\n",
              "      <td>Basic Materials</td>\n",
              "      <td>2.510541e+06</td>\n",
              "      <td>-1.158847e+06</td>\n",
              "      <td>1.019061e+08</td>\n",
              "      <td>CAPITAL MARKETS</td>\n",
              "      <td>Equity</td>\n",
              "      <td>Cobalt 27 Capital Corp</td>\n",
              "    </tr>\n",
              "  </tbody>\n",
              "</table>\n",
              "<p>819 rows × 9 columns</p>\n",
              "</div>"
            ],
            "text/plain": [
              "            date  ...                        issuer\n",
              "85    2018-01-31  ...  Kabel Deutschland Holding AG\n",
              "188   2018-01-31  ...             Unipol Gruppo SpA\n",
              "305   2018-01-31  ...                     HALDEX AB\n",
              "521   2018-01-31  ...                    Wessex Ltd\n",
              "524   2018-01-31  ...               ANSALDO STS SPA\n",
              "...          ...  ...                           ...\n",
              "22085 2018-12-31  ...                     HALDEX AB\n",
              "22086 2018-12-31  ...                   Naspers Ltd\n",
              "22087 2018-12-31  ...          Jadestone Energy Inc\n",
              "22088 2018-12-31  ...                      BOKU Inc\n",
              "22092 2018-12-31  ...        Cobalt 27 Capital Corp\n",
              "\n",
              "[819 rows x 9 columns]"
            ]
          },
          "metadata": {
            "tags": []
          },
          "execution_count": 11
        }
      ]
    },
    {
      "cell_type": "markdown",
      "metadata": {
        "id": "0CU_pJhh8XOz",
        "colab_type": "text"
      },
      "source": [
        "Using the interact function"
      ]
    },
    {
      "cell_type": "code",
      "metadata": {
        "id": "7uvoLN6W8XOz",
        "colab_type": "code",
        "colab": {
          "base_uri": "https://localhost:8080/",
          "height": 687,
          "referenced_widgets": [
            "bf5198247bed4e8a940acfafdb571141",
            "533e05fe897441d897afdebb783894e9",
            "b74c9c1dbc7d4db8bf48558ee44d1d19",
            "0fc49b981b4240f5988479eaf335c82c",
            "d05ffa7e40874d89b15be0575aedfeb9",
            "9c74ac44cec84f6a960787a8663e8e0f",
            "e50f2754565f4ab1b12a6f2ba14cdde1",
            "21f088dfc88948cca764a28cbf237d40",
            "fd9c9ab71df94971be9c98d84d3d3d3b",
            "e443d6e70a2c4dfdaa4b9e14d7f85ce5"
          ]
        },
        "outputId": "08154670-ed44-4cd4-d399-0f9ebb86a0dd"
      },
      "source": [
        "@interact\n",
        "def show_positions_more_than(column=['mtd','exposure'], x=50000):\n",
        "    return df.loc[df[column] > x]"
      ],
      "execution_count": 12,
      "outputs": [
        {
          "output_type": "display_data",
          "data": {
            "application/vnd.jupyter.widget-view+json": {
              "model_id": "bf5198247bed4e8a940acfafdb571141",
              "version_minor": 0,
              "version_major": 2
            },
            "text/plain": [
              "interactive(children=(Dropdown(description='column', options=('mtd', 'exposure'), value='mtd'), IntSlider(valu…"
            ]
          },
          "metadata": {
            "tags": []
          }
        }
      ]
    },
    {
      "cell_type": "markdown",
      "metadata": {
        "id": "SYpI1HOt8XO8",
        "colab_type": "text"
      },
      "source": [
        "Is there an interaction between the exposure and pnl across the different sectors ?"
      ]
    },
    {
      "cell_type": "code",
      "metadata": {
        "id": "crB33h-j8XO8",
        "colab_type": "code",
        "colab": {
          "base_uri": "https://localhost:8080/",
          "height": 130,
          "referenced_widgets": [
            "7858bc4fe88841c68b7d3133b43a521b",
            "8a170928bb2e4fbfac5184ccbef62684",
            "21d0efee0b1f4f679836309e5ecdcba3",
            "55f731900a804cf290ed8b535a4f731f",
            "96d671bcc08f493c9d5cbd84a744a996",
            "cf1e79664b4c434484df7587544b21c6",
            "52b8737c314947118a17d817113d0725",
            "bbf4edc7f47b4a2e8b3467c30d6ea17a",
            "10c0c132aa804e118d1275cec96a1032",
            "6e865adb23fd48029ec914c8a6eb60e4",
            "000d98edb2dd460086982806d22d2a8b",
            "c472272f0ee94679bfd7977750486bd8",
            "33cf7a26725646a9a5be8353aca90a6f"
          ]
        },
        "outputId": "2663a004-4a87-4684-b93e-c0556a0fd145"
      },
      "source": [
        "@interact\n",
        "def correlation(strategy_1=df['strategy'].unique(),\n",
        "               strategy_2=df['strategy'].unique(),\n",
        "               metric=['exposure','mtd']):\n",
        "    if strategy_1==strategy_2:\n",
        "        print(1.0)\n",
        "    else:\n",
        "        df1=df.loc[df.strategy==strategy_1].groupby('date').sum()[metric].to_frame()\n",
        "        df2=df.loc[df.strategy==strategy_2].groupby('date').sum()[metric].to_frame()\n",
        "        dg = pd.concat([df1,df2],axis=1)\n",
        "        dg.columns = [strategy_1,strategy_2]\n",
        "        print(np.round(dg[strategy_1].corr(dg[strategy_2]),4))\n"
      ],
      "execution_count": 16,
      "outputs": [
        {
          "output_type": "display_data",
          "data": {
            "application/vnd.jupyter.widget-view+json": {
              "model_id": "7858bc4fe88841c68b7d3133b43a521b",
              "version_minor": 0,
              "version_major": 2
            },
            "text/plain": [
              "interactive(children=(Dropdown(description='strategy_1', options=('SPECIAL SITUATIONS', 'CAPITAL MARKETS', 'AR…"
            ]
          },
          "metadata": {
            "tags": []
          }
        }
      ]
    },
    {
      "cell_type": "markdown",
      "metadata": {
        "id": "K9zROSCY8XO_",
        "colab_type": "text"
      },
      "source": [
        "Interactive Charts"
      ]
    },
    {
      "cell_type": "code",
      "metadata": {
        "id": "mUjoiIC38XO_",
        "colab_type": "code",
        "colab": {
          "base_uri": "https://localhost:8080/",
          "height": 72
        },
        "outputId": "6e7638a4-dc5c-4197-a593-e113d5556afc"
      },
      "source": [
        "import matplotlib.pyplot as plt\n",
        "import seaborn as sns\n",
        "sns.set()\n",
        "%matplotlib inline"
      ],
      "execution_count": 17,
      "outputs": [
        {
          "output_type": "stream",
          "text": [
            "/usr/local/lib/python3.6/dist-packages/statsmodels/tools/_testing.py:19: FutureWarning: pandas.util.testing is deprecated. Use the functions in the public API at pandas.testing instead.\n",
            "  import pandas.util.testing as tm\n"
          ],
          "name": "stderr"
        }
      ]
    },
    {
      "cell_type": "code",
      "metadata": {
        "id": "J7gcU8gM8XPC",
        "colab_type": "code",
        "colab": {}
      },
      "source": [
        "def plot_pnl(strategy=df['strategy'].unique()):\n",
        "    df.loc[df['strategy']==strategy].groupby('date').sum()['mtd'].plot()\n",
        "    "
      ],
      "execution_count": 18,
      "outputs": []
    },
    {
      "cell_type": "code",
      "metadata": {
        "id": "9JXWqFHU8XPE",
        "colab_type": "code",
        "colab": {
          "base_uri": "https://localhost:8080/",
          "height": 356,
          "referenced_widgets": [
            "ff0133843b8949fa8a3d79a7f58c2356",
            "1011e91a34554cf69f964f24b5e510ab",
            "efc622269d744ec3b871441cc909767a",
            "aad62f80b6d84b79bb4d567752dceae7",
            "b66b497095d94ccf95769d13dcea4b36",
            "31647a22b2cf415f884ff3aa4c216999",
            "13297b5344d54a168b03b6c8d577cb12"
          ]
        },
        "outputId": "7846fcd3-6e93-4848-f93c-9c5cfd522a77"
      },
      "source": [
        "interact(plot_pnl)"
      ],
      "execution_count": 19,
      "outputs": [
        {
          "output_type": "display_data",
          "data": {
            "application/vnd.jupyter.widget-view+json": {
              "model_id": "ff0133843b8949fa8a3d79a7f58c2356",
              "version_minor": 0,
              "version_major": 2
            },
            "text/plain": [
              "interactive(children=(Dropdown(description='strategy', options=('SPECIAL SITUATIONS', 'CAPITAL MARKETS', 'ARBI…"
            ]
          },
          "metadata": {
            "tags": []
          }
        },
        {
          "output_type": "execute_result",
          "data": {
            "text/plain": [
              "<function __main__.plot_pnl>"
            ]
          },
          "metadata": {
            "tags": []
          },
          "execution_count": 19
        }
      ]
    },
    {
      "cell_type": "code",
      "metadata": {
        "id": "A5Jaq2TM8XPH",
        "colab_type": "code",
        "colab": {}
      },
      "source": [
        ""
      ],
      "execution_count": null,
      "outputs": []
    }
  ]
}